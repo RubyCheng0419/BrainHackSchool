{
 "cells": [
  {
   "cell_type": "code",
   "execution_count": 1,
   "metadata": {},
   "outputs": [
    {
     "name": "stdout",
     "output_type": "stream",
     "text": [
      "Requirement already satisfied: nilearn in /home/rubycheng/miniconda3/lib/python3.10/site-packages (0.10.0)\n",
      "Requirement already satisfied: scipy>=1.6.0 in /home/rubycheng/miniconda3/lib/python3.10/site-packages (from nilearn) (1.10.0)\n",
      "Requirement already satisfied: pandas>=1.1.5 in /home/rubycheng/miniconda3/lib/python3.10/site-packages (from nilearn) (1.5.3)\n",
      "Requirement already satisfied: numpy>=1.19.0 in /home/rubycheng/miniconda3/lib/python3.10/site-packages (from nilearn) (1.23.5)\n",
      "Requirement already satisfied: joblib>=1.0.0 in /home/rubycheng/miniconda3/lib/python3.10/site-packages (from nilearn) (1.1.1)\n",
      "Requirement already satisfied: scikit-learn>=1.0.0 in /home/rubycheng/miniconda3/lib/python3.10/site-packages (from nilearn) (1.2.1)\n",
      "Requirement already satisfied: requests>=2.25.0 in /home/rubycheng/miniconda3/lib/python3.10/site-packages (from nilearn) (2.28.1)\n",
      "Requirement already satisfied: nibabel>=3.2.0 in /home/rubycheng/miniconda3/lib/python3.10/site-packages (from nilearn) (5.0.1)\n",
      "Requirement already satisfied: lxml in /home/rubycheng/miniconda3/lib/python3.10/site-packages (from nilearn) (4.9.1)\n",
      "Requirement already satisfied: setuptools in /home/rubycheng/miniconda3/lib/python3.10/site-packages (from nibabel>=3.2.0->nilearn) (65.6.3)\n",
      "Requirement already satisfied: packaging>=17 in /home/rubycheng/miniconda3/lib/python3.10/site-packages (from nibabel>=3.2.0->nilearn) (23.0)\n",
      "Requirement already satisfied: python-dateutil>=2.8.1 in /home/rubycheng/miniconda3/lib/python3.10/site-packages (from pandas>=1.1.5->nilearn) (2.8.2)\n",
      "Requirement already satisfied: pytz>=2020.1 in /home/rubycheng/miniconda3/lib/python3.10/site-packages (from pandas>=1.1.5->nilearn) (2022.7)\n",
      "Requirement already satisfied: urllib3<1.27,>=1.21.1 in /home/rubycheng/miniconda3/lib/python3.10/site-packages (from requests>=2.25.0->nilearn) (1.26.14)\n",
      "Requirement already satisfied: certifi>=2017.4.17 in /home/rubycheng/miniconda3/lib/python3.10/site-packages (from requests>=2.25.0->nilearn) (2022.12.7)\n",
      "Requirement already satisfied: charset-normalizer<3,>=2 in /home/rubycheng/miniconda3/lib/python3.10/site-packages (from requests>=2.25.0->nilearn) (2.0.4)\n",
      "Requirement already satisfied: idna<4,>=2.5 in /home/rubycheng/miniconda3/lib/python3.10/site-packages (from requests>=2.25.0->nilearn) (3.4)\n",
      "Requirement already satisfied: threadpoolctl>=2.0.0 in /home/rubycheng/miniconda3/lib/python3.10/site-packages (from scikit-learn>=1.0.0->nilearn) (2.2.0)\n",
      "Requirement already satisfied: six>=1.5 in /home/rubycheng/miniconda3/lib/python3.10/site-packages (from python-dateutil>=2.8.1->pandas>=1.1.5->nilearn) (1.16.0)\n",
      "Note: you may need to restart the kernel to use updated packages.\n"
     ]
    }
   ],
   "source": [
    "pip install nilearn\n"
   ]
  },
  {
   "cell_type": "code",
   "execution_count": 5,
   "metadata": {},
   "outputs": [
    {
     "name": "stdout",
     "output_type": "stream",
     "text": [
      "[(b'Precentral_R',) (b'Frontal_Sup_L',) (b'Frontal_Sup_R',)\n",
      " (b'Frontal_Sup_Orb_L',) (b'Frontal_Sup_Orb_R',) (b'Frontal_Mid_L',)\n",
      " (b'Frontal_Mid_R',) (b'Frontal_Mid_Orb_L',) (b'Frontal_Mid_Orb_R',)\n",
      " (b'Frontal_Inf_Oper_L',) (b'Frontal_Inf_Oper_R',) (b'Frontal_Inf_Tri_L',)\n",
      " (b'Frontal_Inf_Tri_R',) (b'Frontal_Inf_Orb_L',) (b'Frontal_Inf_Orb_R',)\n",
      " (b'Rolandic_Oper_L',) (b'Rolandic_Oper_R',) (b'Supp_Motor_Area_L',)\n",
      " (b'Supp_Motor_Area_R',) (b'Olfactory_L',) (b'Olfactory_R',)\n",
      " (b'Frontal_Sup_Medial_L',) (b'Frontal_Sup_Medial_R',)\n",
      " (b'Frontal_Med_Orb_L',) (b'Frontal_Med_Orb_R',) (b'Rectus_L',)\n",
      " (b'Rectus_R',) (b'Insula_L',) (b'Insula_R',) (b'Cingulum_Ant_L',)\n",
      " (b'Cingulum_Ant_R',) (b'Cingulum_Mid_L',) (b'Cingulum_Mid_R',)\n",
      " (b'Cingulum_Post_L',) (b'Cingulum_Post_R',) (b'Hippocampus_L',)\n",
      " (b'Hippocampus_R',) (b'ParaHippocampal_L',) (b'ParaHippocampal_R',)\n",
      " (b'Amygdala_L',) (b'Amygdala_R',) (b'Calcarine_L',) (b'Calcarine_R',)\n",
      " (b'Cuneus_L',) (b'Cuneus_R',) (b'Lingual_L',) (b'Lingual_R',)\n",
      " (b'Occipital_Sup_L',) (b'Occipital_Sup_R',) (b'Occipital_Mid_L',)\n",
      " (b'Occipital_Mid_R',) (b'Occipital_Inf_L',) (b'Occipital_Inf_R',)\n",
      " (b'Fusiform_L',) (b'Fusiform_R',) (b'Postcentral_L',) (b'Postcentral_R',)\n",
      " (b'Parietal_Sup_L',) (b'Parietal_Sup_R',) (b'Parietal_Inf_L',)\n",
      " (b'Parietal_Inf_R',) (b'SupraMarginal_L',) (b'SupraMarginal_R',)\n",
      " (b'Angular_L',) (b'Angular_R',) (b'Precuneus_L',) (b'Precuneus_R',)\n",
      " (b'Paracentral_Lobule_L',) (b'Paracentral_Lobule_R',) (b'Caudate_L',)\n",
      " (b'Caudate_R',) (b'Putamen_L',) (b'Putamen_R',) (b'Pallidum_L',)\n",
      " (b'Pallidum_R',) (b'Thalamus_L',) (b'Thalamus_R',) (b'Heschl_L',)\n",
      " (b'Heschl_R',) (b'Temporal_Sup_L',) (b'Temporal_Sup_R',)\n",
      " (b'Temporal_Pole_Sup_L',) (b'Temporal_Pole_Sup_R',) (b'Temporal_Mid_L',)\n",
      " (b'Temporal_Mid_R',) (b'Temporal_Pole_Mid_L',) (b'Temporal_Pole_Mid_R',)\n",
      " (b'Temporal_Inf_L',) (b'Temporal_Inf_R',) (b'Cerebelum_Crus1_L',)\n",
      " (b'Cerebelum_Crus1_R',) (b'Cerebelum_Crus2_L',) (b'Cerebelum_Crus2_R',)\n",
      " (b'Cerebelum_3_L',) (b'Cerebelum_3_R',) (b'Cerebelum_4_5_L',)\n",
      " (b'Cerebelum_4_5_R',) (b'Cerebelum_6_L',) (b'Cerebelum_6_R',)\n",
      " (b'Cerebelum_7b_L',) (b'Cerebelum_7b_R',) (b'Cerebelum_8_L',)\n",
      " (b'Cerebelum_8_R',) (b'Cerebelum_9_L',) (b'Cerebelum_9_R',)\n",
      " (b'Cerebelum_10_L',) (b'Cerebelum_10_R',) (b'Vermis_1_2',) (b'Vermis_3',)\n",
      " (b'Vermis_4_5',) (b'Vermis_6',) (b'Vermis_7',) (b'Vermis_8',)\n",
      " (b'Vermis_9',) (b'Vermis_10',)]\n"
     ]
    },
    {
     "name": "stderr",
     "output_type": "stream",
     "text": [
      "/home/rubycheng/miniconda3/lib/python3.10/site-packages/numpy/lib/npyio.py:2520: VisibleDeprecationWarning: Reading unicode strings without specifying the encoding argument is deprecated. Set the encoding, use None for the system default.\n",
      "  output = genfromtxt(fname, **kwargs)\n"
     ]
    }
   ],
   "source": [
    "from nilearn import datasets\n",
    "import numpy as np\n",
    "\n",
    "# Download the AAL atlas\n",
    "aal_atlas = datasets.fetch_atlas_aal(version='SPM12', verbose=1)\n",
    "\n",
    "# Access the atlas data and labels\n",
    "atlas_filename = aal_atlas.maps\n",
    "labels_filename = aal_atlas.labels\n",
    "\n",
    "# Load the atlas data and labels\n",
    "# Perform any further operations as needed\n",
    "# Load the labels\n",
    "labels = np.recfromcsv(labels_filename, delimiter='\\t')\n",
    "\n",
    "# Print the labels\n",
    "print(labels)\n"
   ]
  },
  {
   "cell_type": "code",
   "execution_count": 6,
   "metadata": {},
   "outputs": [
    {
     "name": "stderr",
     "output_type": "stream",
     "text": [
      "/home/rubycheng/miniconda3/lib/python3.10/site-packages/nilearn/input_data/__init__.py:23: FutureWarning: The import path 'nilearn.input_data' is deprecated in version 0.9. Importing from 'nilearn.input_data' will be possible at least until release 0.13.0. Please import from 'nilearn.maskers' instead.\n",
      "  warnings.warn(message, FutureWarning)\n"
     ]
    },
    {
     "name": "stdout",
     "output_type": "stream",
     "text": [
      "/mnt/e/fmriprep/sub-002/func/sub-002_task-rest_space-MNI152NLin2009cAsym_desc-preproc_bold.nii.gz\n"
     ]
    }
   ],
   "source": [
    "from nilearn import input_data, image\n",
    "\n",
    "# Specify the file paths of the functional and labels (atlas) images\n",
    "func_file = '/mnt/e/fmriprep/sub-002/func/sub-002_task-rest_space-MNI152NLin2009cAsym_desc-preproc_bold.nii.gz'\n",
    "print(func_file)\n",
    "\n",
    "# Load the functional image\n",
    "func_img = image.load_img(func_file)\n"
   ]
  },
  {
   "cell_type": "code",
   "execution_count": 20,
   "metadata": {},
   "outputs": [
    {
     "name": "stdout",
     "output_type": "stream",
     "text": [
      "Subject: 002, File: /mnt/e/fmriprep/sub-002/func/sub-002_task-rest_space-MNI152NLin2009cAsym_desc-preproc_bold.nii.gz\n"
     ]
    },
    {
     "ename": "ValueError",
     "evalue": "File not found: '/mnt/e/fmriprep/sub-002.html/func/sub-002.html_task-rest_space-MNI152NLin2009cAsym_desc-preproc_bold.nii.gz'",
     "output_type": "error",
     "traceback": [
      "\u001b[0;31m---------------------------------------------------------------------------\u001b[0m",
      "\u001b[0;31mValueError\u001b[0m                                Traceback (most recent call last)",
      "Cell \u001b[0;32mIn[20], line 22\u001b[0m\n\u001b[1;32m     19\u001b[0m func_file \u001b[39m=\u001b[39m base_directory \u001b[39m+\u001b[39m \u001b[39mf\u001b[39m\u001b[39m'\u001b[39m\u001b[39msub-\u001b[39m\u001b[39m{\u001b[39;00msubject\u001b[39m}\u001b[39;00m\u001b[39m/func/sub-\u001b[39m\u001b[39m{\u001b[39;00msubject\u001b[39m}\u001b[39;00m\u001b[39m_task-rest_space-MNI152NLin2009cAsym_desc-preproc_bold.nii.gz\u001b[39m\u001b[39m'\u001b[39m\n\u001b[1;32m     21\u001b[0m \u001b[39m# Load the functional image\u001b[39;00m\n\u001b[0;32m---> 22\u001b[0m func_img \u001b[39m=\u001b[39m image\u001b[39m.\u001b[39;49mload_img(func_file)\n\u001b[1;32m     24\u001b[0m \u001b[39m# Process the image as needed\u001b[39;00m\n\u001b[1;32m     25\u001b[0m \u001b[39m# ...\u001b[39;00m\n\u001b[1;32m     26\u001b[0m \n\u001b[1;32m     27\u001b[0m \u001b[39m# Print the subject number and file path as an example\u001b[39;00m\n\u001b[1;32m     28\u001b[0m \u001b[39mprint\u001b[39m(\u001b[39mf\u001b[39m\u001b[39m\"\u001b[39m\u001b[39mSubject: \u001b[39m\u001b[39m{\u001b[39;00msubject\u001b[39m}\u001b[39;00m\u001b[39m, File: \u001b[39m\u001b[39m{\u001b[39;00mfunc_file\u001b[39m}\u001b[39;00m\u001b[39m\"\u001b[39m)\n",
      "File \u001b[0;32m~/miniconda3/lib/python3.10/site-packages/nilearn/image/image.py:1275\u001b[0m, in \u001b[0;36mload_img\u001b[0;34m(img, wildcards, dtype)\u001b[0m\n\u001b[1;32m   1239\u001b[0m \u001b[39mdef\u001b[39;00m \u001b[39mload_img\u001b[39m(img, wildcards\u001b[39m=\u001b[39m\u001b[39mTrue\u001b[39;00m, dtype\u001b[39m=\u001b[39m\u001b[39mNone\u001b[39;00m):\n\u001b[1;32m   1240\u001b[0m     \u001b[39m\"\"\"Load a Niimg-like object from filenames or list of filenames.\u001b[39;00m\n\u001b[1;32m   1241\u001b[0m \n\u001b[1;32m   1242\u001b[0m \u001b[39m    .. versionadded:: 0.2.5\u001b[39;00m\n\u001b[0;32m   (...)\u001b[0m\n\u001b[1;32m   1273\u001b[0m \n\u001b[1;32m   1274\u001b[0m \u001b[39m    \"\"\"\u001b[39;00m\n\u001b[0;32m-> 1275\u001b[0m     \u001b[39mreturn\u001b[39;00m check_niimg(img, wildcards\u001b[39m=\u001b[39;49mwildcards, dtype\u001b[39m=\u001b[39;49mdtype)\n",
      "File \u001b[0;32m~/miniconda3/lib/python3.10/site-packages/nilearn/_utils/niimg_conversions.py:274\u001b[0m, in \u001b[0;36mcheck_niimg\u001b[0;34m(niimg, ensure_ndim, atleast_4d, dtype, return_iterator, wildcards)\u001b[0m\n\u001b[1;32m    272\u001b[0m         \u001b[39mraise\u001b[39;00m \u001b[39mValueError\u001b[39;00m(message)\n\u001b[1;32m    273\u001b[0m     \u001b[39melse\u001b[39;00m:\n\u001b[0;32m--> 274\u001b[0m         \u001b[39mraise\u001b[39;00m \u001b[39mValueError\u001b[39;00m(\u001b[39m\"\u001b[39m\u001b[39mFile not found: \u001b[39m\u001b[39m'\u001b[39m\u001b[39m%s\u001b[39;00m\u001b[39m'\u001b[39m\u001b[39m\"\u001b[39m \u001b[39m%\u001b[39m niimg)\n\u001b[1;32m    275\u001b[0m \u001b[39melif\u001b[39;00m \u001b[39mnot\u001b[39;00m os\u001b[39m.\u001b[39mpath\u001b[39m.\u001b[39mexists(niimg):\n\u001b[1;32m    276\u001b[0m     \u001b[39mraise\u001b[39;00m \u001b[39mValueError\u001b[39;00m(\u001b[39m\"\u001b[39m\u001b[39mFile not found: \u001b[39m\u001b[39m'\u001b[39m\u001b[39m%s\u001b[39;00m\u001b[39m'\u001b[39m\u001b[39m\"\u001b[39m \u001b[39m%\u001b[39m niimg)\n",
      "\u001b[0;31mValueError\u001b[0m: File not found: '/mnt/e/fmriprep/sub-002.html/func/sub-002.html_task-rest_space-MNI152NLin2009cAsym_desc-preproc_bold.nii.gz'"
     ]
    }
   ],
   "source": [
    "import glob\n",
    "from nilearn import input_data, image\n",
    "\n",
    "# Specify the base directory path where the files are located\n",
    "base_directory = '/mnt/e/fmriprep/'\n",
    "\n",
    "# Specify the pattern of the file names for the functional images\n",
    "func_pattern = 'sub-*'\n",
    "\n",
    "# Find all subdirectories that match the pattern\n",
    "sub_dirs = glob.glob(base_directory + func_pattern)\n",
    "\n",
    "# Extract the subject numbers from the subdirectory paths\n",
    "subject_numbers = [sub_dir.split('-')[1] for sub_dir in sub_dirs]\n",
    "\n",
    "# Loop over the subject numbers and process the files\n",
    "for subject in subject_numbers:\n",
    "    # Construct the file path using the subject number\n",
    "    func_file = base_directory + f'sub-{subject}/func/sub-{subject}_task-rest_space-MNI152NLin2009cAsym_desc-preproc_bold.nii.gz'\n",
    "    \n",
    "    # Load the functional image\n",
    "    func_img = image.load_img(func_file)\n",
    "    \n",
    "    # Process the image as needed\n",
    "    # ...\n",
    "\n",
    "    # Print the subject number and file path as an example\n",
    "    print(f\"Subject: {subject}, File: {func_file}\")\n"
   ]
  },
  {
   "attachments": {},
   "cell_type": "markdown",
   "metadata": {},
   "source": [
    "# Define ROIs using pain matrix\n",
    "For pain matrix, I focus on six regions: the thalamus, insular cortex (IC), primary and secondary somatosensory cortices (SI and SII), anterior cingulate cortex (ACC), and prefrontal cortex (PFC) (Morton et al., 2016)."
   ]
  },
  {
   "cell_type": "code",
   "execution_count": null,
   "metadata": {},
   "outputs": [
    {
     "name": "stdout",
     "output_type": "stream",
     "text": [
      "Label: 1 Region: Precentral_L\n",
      "Label: 2 Region: Precentral_R\n",
      "Label: 3 Region: Frontal_Sup_L\n",
      "Label: 4 Region: Frontal_Sup_R\n",
      "Label: 5 Region: Frontal_Sup_Orb_L\n",
      "Label: 6 Region: Frontal_Sup_Orb_R\n",
      "Label: 7 Region: Frontal_Mid_L\n",
      "Label: 8 Region: Frontal_Mid_R\n",
      "Label: 9 Region: Frontal_Mid_Orb_L\n",
      "Label: 10 Region: Frontal_Mid_Orb_R\n",
      "Label: 11 Region: Frontal_Inf_Oper_L\n",
      "Label: 12 Region: Frontal_Inf_Oper_R\n",
      "Label: 13 Region: Frontal_Inf_Tri_L\n",
      "Label: 14 Region: Frontal_Inf_Tri_R\n",
      "Label: 15 Region: Frontal_Inf_Orb_L\n",
      "Label: 16 Region: Frontal_Inf_Orb_R\n",
      "Label: 17 Region: Rolandic_Oper_L\n",
      "Label: 18 Region: Rolandic_Oper_R\n",
      "Label: 19 Region: Supp_Motor_Area_L\n",
      "Label: 20 Region: Supp_Motor_Area_R\n",
      "Label: 21 Region: Olfactory_L\n",
      "Label: 22 Region: Olfactory_R\n",
      "Label: 23 Region: Frontal_Sup_Medial_L\n",
      "Label: 24 Region: Frontal_Sup_Medial_R\n",
      "Label: 25 Region: Frontal_Med_Orb_L\n",
      "Label: 26 Region: Frontal_Med_Orb_R\n",
      "Label: 27 Region: Rectus_L\n",
      "Label: 28 Region: Rectus_R\n",
      "Label: 29 Region: Insula_L\n",
      "Label: 30 Region: Insula_R\n",
      "Label: 31 Region: Cingulum_Ant_L\n",
      "Label: 32 Region: Cingulum_Ant_R\n",
      "Label: 33 Region: Cingulum_Mid_L\n",
      "Label: 34 Region: Cingulum_Mid_R\n",
      "Label: 35 Region: Cingulum_Post_L\n",
      "Label: 36 Region: Cingulum_Post_R\n",
      "Label: 37 Region: Hippocampus_L\n",
      "Label: 38 Region: Hippocampus_R\n",
      "Label: 39 Region: ParaHippocampal_L\n",
      "Label: 40 Region: ParaHippocampal_R\n",
      "Label: 41 Region: Amygdala_L\n",
      "Label: 42 Region: Amygdala_R\n",
      "Label: 43 Region: Calcarine_L\n",
      "Label: 44 Region: Calcarine_R\n",
      "Label: 45 Region: Cuneus_L\n",
      "Label: 46 Region: Cuneus_R\n",
      "Label: 47 Region: Lingual_L\n",
      "Label: 48 Region: Lingual_R\n",
      "Label: 49 Region: Occipital_Sup_L\n",
      "Label: 50 Region: Occipital_Sup_R\n",
      "Label: 51 Region: Occipital_Mid_L\n",
      "Label: 52 Region: Occipital_Mid_R\n",
      "Label: 53 Region: Occipital_Inf_L\n",
      "Label: 54 Region: Occipital_Inf_R\n",
      "Label: 55 Region: Fusiform_L\n",
      "Label: 56 Region: Fusiform_R\n",
      "Label: 57 Region: Postcentral_L\n",
      "Label: 58 Region: Postcentral_R\n",
      "Label: 59 Region: Parietal_Sup_L\n",
      "Label: 60 Region: Parietal_Sup_R\n",
      "Label: 61 Region: Parietal_Inf_L\n",
      "Label: 62 Region: Parietal_Inf_R\n",
      "Label: 63 Region: SupraMarginal_L\n",
      "Label: 64 Region: SupraMarginal_R\n",
      "Label: 65 Region: Angular_L\n",
      "Label: 66 Region: Angular_R\n",
      "Label: 67 Region: Precuneus_L\n",
      "Label: 68 Region: Precuneus_R\n",
      "Label: 69 Region: Paracentral_Lobule_L\n",
      "Label: 70 Region: Paracentral_Lobule_R\n",
      "Label: 71 Region: Caudate_L\n",
      "Label: 72 Region: Caudate_R\n",
      "Label: 73 Region: Putamen_L\n",
      "Label: 74 Region: Putamen_R\n",
      "Label: 75 Region: Pallidum_L\n",
      "Label: 76 Region: Pallidum_R\n",
      "Label: 77 Region: Thalamus_L\n",
      "Label: 78 Region: Thalamus_R\n",
      "Label: 79 Region: Heschl_L\n",
      "Label: 80 Region: Heschl_R\n",
      "Label: 81 Region: Temporal_Sup_L\n",
      "Label: 82 Region: Temporal_Sup_R\n",
      "Label: 83 Region: Temporal_Pole_Sup_L\n",
      "Label: 84 Region: Temporal_Pole_Sup_R\n",
      "Label: 85 Region: Temporal_Mid_L\n",
      "Label: 86 Region: Temporal_Mid_R\n",
      "Label: 87 Region: Temporal_Pole_Mid_L\n",
      "Label: 88 Region: Temporal_Pole_Mid_R\n",
      "Label: 89 Region: Temporal_Inf_L\n",
      "Label: 90 Region: Temporal_Inf_R\n",
      "Label: 91 Region: Cerebelum_Crus1_L\n",
      "Label: 92 Region: Cerebelum_Crus1_R\n",
      "Label: 93 Region: Cerebelum_Crus2_L\n",
      "Label: 94 Region: Cerebelum_Crus2_R\n",
      "Label: 95 Region: Cerebelum_3_L\n",
      "Label: 96 Region: Cerebelum_3_R\n",
      "Label: 97 Region: Cerebelum_4_5_L\n",
      "Label: 98 Region: Cerebelum_4_5_R\n",
      "Label: 99 Region: Cerebelum_6_L\n",
      "Label: 100 Region: Cerebelum_6_R\n",
      "Label: 101 Region: Cerebelum_7b_L\n",
      "Label: 102 Region: Cerebelum_7b_R\n",
      "Label: 103 Region: Cerebelum_8_L\n",
      "Label: 104 Region: Cerebelum_8_R\n",
      "Label: 105 Region: Cerebelum_9_L\n",
      "Label: 106 Region: Cerebelum_9_R\n",
      "Label: 107 Region: Cerebelum_10_L\n",
      "Label: 108 Region: Cerebelum_10_R\n",
      "Label: 109 Region: Vermis_1_2\n",
      "Label: 110 Region: Vermis_3\n",
      "Label: 111 Region: Vermis_4_5\n",
      "Label: 112 Region: Vermis_6\n",
      "Label: 113 Region: Vermis_7\n",
      "Label: 114 Region: Vermis_8\n",
      "Label: 115 Region: Vermis_9\n",
      "Label: 116 Region: Vermis_10\n"
     ]
    }
   ],
   "source": [
    "# Access the label values and region names\n",
    "labels = aal_atlas.labels\n",
    "for i, region in enumerate(labels):\n",
    "    print(\"Label:\", i + 1, \"Region:\", region)"
   ]
  },
  {
   "cell_type": "code",
   "execution_count": null,
   "metadata": {},
   "outputs": [
    {
     "name": "stdout",
     "output_type": "stream",
     "text": [
      "Region: Postcentral_L, Label number: 57\n",
      "Region: Postcentral_R, Label number: 58\n"
     ]
    }
   ],
   "source": [
    "# Find regions that start with \"Fron\" and retrieve their label numbers\n",
    "target_prefix = \"Postcen\"\n",
    "regions = []\n",
    "numbers = []\n",
    "for i, region in enumerate(aal_atlas.labels):\n",
    "    if region.startswith(target_prefix):\n",
    "        numbers.append(i + 1)\n",
    "        regions.append(region)\n",
    "\n",
    "if regions:\n",
    "    for region, number in zip(regions, numbers):\n",
    "        print(f\"Region: {region}, Label number: {number}\")\n",
    "else:\n",
    "    print(f\"No regions found starting with '{target_prefix}'.\")\n"
   ]
  },
  {
   "attachments": {},
   "cell_type": "markdown",
   "metadata": {},
   "source": [
    "Region: Thalamus_L, Label number: 77 <br>\n",
    "Region: Thalamus_R, Label number: 78 <br>\n",
    "Region: Insula_L, Label number: 29 <br>\n",
    "Region: Insula_R, Label number: 30 <br>\n",
    "Region: Cingulum_Ant_L, Label number: 31 <br>\n",
    "Region: Cingulum_Ant_R, Label number: 32 <br>\n",
    "Region: Frontal_Inf_Tri_L, Label number: 13 <br>\n",
    "Region: Frontal_Inf_Tri_R, Label number: 14 <br>\n",
    "Region: Precentral_L, Label number: 1 <br>\n",
    "Region: Precentral_R, Label number: 2 <br>\n",
    "Region: Postcentral_L, Label number: 57 <br>\n",
    "Region: Postcentral_R, Label number: 58"
   ]
  },
  {
   "cell_type": "code",
   "execution_count": null,
   "metadata": {},
   "outputs": [
    {
     "name": "stdout",
     "output_type": "stream",
     "text": [
      "(300, 116)\n"
     ]
    }
   ],
   "source": [
    "from nilearn import input_data, image\n",
    "\n",
    "# Define the target region labels as a list\n",
    "target_labels = [1,2,13,14,29,30,31,32,57,58,77,78]  # Replace with your desired label numbers\n",
    "\n",
    "# Filter the AAL atlas labels using the target labels\n",
    "target_regions = [region for region in aal_atlas.labels if any(str(label) in region for label in target_labels)]\n",
    "\n",
    "# Create a masker for the target regions\n",
    "masker = input_data.NiftiLabelsMasker(labels_img=aal_atlas.maps, labels=target_regions, detrend=True, standardize=True, smoothing_fwhm=6.0, high_pass=0.01, low_pass=0.1, t_r=2.0)\n",
    "\n",
    "# Apply the masker to the functional image\n",
    "time_series = masker.fit_transform(func_img)\n",
    "\n",
    "# The resulting time series will contain data only for the target regions\n",
    "print(time_series.shape)\n"
   ]
  },
  {
   "cell_type": "code",
   "execution_count": null,
   "metadata": {},
   "outputs": [
    {
     "data": {
      "text/plain": [
       "<matplotlib.image.AxesImage at 0x7f1b26da6bf0>"
      ]
     },
     "execution_count": 17,
     "metadata": {},
     "output_type": "execute_result"
    },
    {
     "data": {
      "image/png": "[encoded data removed]",
      "text/plain": [
       "<Figure size 640x480 with 1 Axes>"
      ]
     },
     "metadata": {},
     "output_type": "display_data"
    }
   ],
   "source": [
    "import matplotlib.pyplot as plt\n",
    "\n",
    "thresholded_masked_data = time_series * (time_series > time_series.mean()) \n",
    "#This effectively thresholds the data to remove any low-amplitude noise.\n",
    "\n",
    "thresholded_img = masker.inverse_transform(thresholded_masked_data)\n",
    "#(thresholded_masked_data is a 2D numpy array of the fMRI data after applying a threshold to it. The masker.inverse_transform method is then used to convert the thresholded data into a 3D Nifti image object, where each voxel in the image has the same value as its corresponding voxel in thresholded_masked_data.)\n",
    "\n",
    "plt.imshow(thresholded_img.get_fdata()[:,:,25,0], cmap='gray')"
   ]
  },
  {
   "cell_type": "code",
   "execution_count": null,
   "metadata": {},
   "outputs": [
    {
     "name": "stdout",
     "output_type": "stream",
     "text": [
      "       dvars  framewise_displacement   trans_x   trans_y   trans_z     rot_x  \\\n",
      "0        NaN                     NaN -0.030209 -0.042646 -0.060922  0.000203   \n",
      "1  27.229527                0.067177 -0.030247 -0.006518 -0.068794  0.000327   \n",
      "2  23.595106                0.080535 -0.028200 -0.034991 -0.048727  0.000158   \n",
      "3  29.169474                0.052365 -0.030210 -0.007842 -0.051131  0.000229   \n",
      "4  28.552750                0.064280 -0.030240 -0.027970 -0.057058  0.000054   \n",
      "\n",
      "      rot_y     rot_z  \n",
      "0  0.000562  0.000526  \n",
      "1  0.000224  0.000526  \n",
      "2  0.000398  0.000271  \n",
      "3  0.000625  0.000389  \n",
      "4  0.000181  0.000244  \n"
     ]
    }
   ],
   "source": [
    "import pandas as pd\n",
    "\n",
    "# Specify the path(s) of the confound file(s)\n",
    "confound_files = '/mnt/e/fmriprep/sub-002/func/sub-002_task-rest_desc-confounds_timeseries.tsv'\n",
    "\n",
    "# Specify the columns you want to select\n",
    "selected_columns = ['dvars', 'framewise_displacement', 'trans_x','trans_y','trans_z', 'rot_x', 'rot_y', 'rot_z']  # Replace with the names of the columns you want to select\n",
    "\n",
    "# Read the TSV file into a pandas DataFrame\n",
    "df = pd.read_csv(confound_files, delimiter='\\t')\n",
    "\n",
    "# Select only the specified columns\n",
    "selected_df = df[selected_columns]\n",
    "\n",
    "# Now `selected_df` contains the DataFrame with only the selected columns\n",
    "print(selected_df.head())  # Print the first few rows of the selected DataFrame\n"
   ]
  },
  {
   "cell_type": "code",
   "execution_count": null,
   "metadata": {},
   "outputs": [
    {
     "ename": "ValueError",
     "evalue": "array must not contain infs or NaNs",
     "output_type": "error",
     "traceback": [
      "\u001b[0;31m---------------------------------------------------------------------------\u001b[0m",
      "\u001b[0;31mValueError\u001b[0m                                Traceback (most recent call last)",
      "Cell \u001b[0;32mIn[19], line 2\u001b[0m\n\u001b[1;32m      1\u001b[0m \u001b[39m# Apply the masker to the functional image\u001b[39;00m\n\u001b[0;32m----> 2\u001b[0m time_series \u001b[39m=\u001b[39m masker\u001b[39m.\u001b[39;49mfit_transform(func_img, confounds\u001b[39m=\u001b[39;49mconfound_files)\n\u001b[1;32m      4\u001b[0m \u001b[39m# The resulting time series is a 2D array with shape (n_samples, n_regions)\u001b[39;00m\n\u001b[1;32m      5\u001b[0m \u001b[39mprint\u001b[39m(time_series\u001b[39m.\u001b[39mshape)\n",
      "File \u001b[0;32m~/miniconda3/lib/python3.10/site-packages/sklearn/utils/_set_output.py:142\u001b[0m, in \u001b[0;36m_wrap_method_output.<locals>.wrapped\u001b[0;34m(self, X, *args, **kwargs)\u001b[0m\n\u001b[1;32m    140\u001b[0m \u001b[39m@wraps\u001b[39m(f)\n\u001b[1;32m    141\u001b[0m \u001b[39mdef\u001b[39;00m \u001b[39mwrapped\u001b[39m(\u001b[39mself\u001b[39m, X, \u001b[39m*\u001b[39margs, \u001b[39m*\u001b[39m\u001b[39m*\u001b[39mkwargs):\n\u001b[0;32m--> 142\u001b[0m     data_to_wrap \u001b[39m=\u001b[39m f(\u001b[39mself\u001b[39;49m, X, \u001b[39m*\u001b[39;49margs, \u001b[39m*\u001b[39;49m\u001b[39m*\u001b[39;49mkwargs)\n\u001b[1;32m    143\u001b[0m     \u001b[39mif\u001b[39;00m \u001b[39misinstance\u001b[39m(data_to_wrap, \u001b[39mtuple\u001b[39m):\n\u001b[1;32m    144\u001b[0m         \u001b[39m# only wrap the first output for cross decomposition\u001b[39;00m\n\u001b[1;32m    145\u001b[0m         \u001b[39mreturn\u001b[39;00m (\n\u001b[1;32m    146\u001b[0m             _wrap_data_with_container(method, data_to_wrap[\u001b[39m0\u001b[39m], X, \u001b[39mself\u001b[39m),\n\u001b[1;32m    147\u001b[0m             \u001b[39m*\u001b[39mdata_to_wrap[\u001b[39m1\u001b[39m:],\n\u001b[1;32m    148\u001b[0m         )\n",
      "File \u001b[0;32m~/miniconda3/lib/python3.10/site-packages/nilearn/maskers/nifti_labels_masker.py:488\u001b[0m, in \u001b[0;36mNiftiLabelsMasker.fit_transform\u001b[0;34m(self, imgs, confounds, sample_mask)\u001b[0m\n\u001b[1;32m    457\u001b[0m \u001b[39mdef\u001b[39;00m \u001b[39mfit_transform\u001b[39m(\u001b[39mself\u001b[39m, imgs, confounds\u001b[39m=\u001b[39m\u001b[39mNone\u001b[39;00m, sample_mask\u001b[39m=\u001b[39m\u001b[39mNone\u001b[39;00m):\n\u001b[1;32m    458\u001b[0m     \u001b[39m\"\"\"Prepare and perform signal extraction from regions.\u001b[39;00m\n\u001b[1;32m    459\u001b[0m \n\u001b[1;32m    460\u001b[0m \u001b[39m    Parameters\u001b[39;00m\n\u001b[0;32m   (...)\u001b[0m\n\u001b[1;32m    486\u001b[0m \n\u001b[1;32m    487\u001b[0m \u001b[39m    \"\"\"\u001b[39;00m\n\u001b[0;32m--> 488\u001b[0m     \u001b[39mreturn\u001b[39;00m \u001b[39mself\u001b[39;49m\u001b[39m.\u001b[39;49mfit()\u001b[39m.\u001b[39;49mtransform(imgs, confounds\u001b[39m=\u001b[39;49mconfounds,\n\u001b[1;32m    489\u001b[0m                                 sample_mask\u001b[39m=\u001b[39;49msample_mask)\n",
      "File \u001b[0;32m~/miniconda3/lib/python3.10/site-packages/sklearn/utils/_set_output.py:142\u001b[0m, in \u001b[0;36m_wrap_method_output.<locals>.wrapped\u001b[0;34m(self, X, *args, **kwargs)\u001b[0m\n\u001b[1;32m    140\u001b[0m \u001b[39m@wraps\u001b[39m(f)\n\u001b[1;32m    141\u001b[0m \u001b[39mdef\u001b[39;00m \u001b[39mwrapped\u001b[39m(\u001b[39mself\u001b[39m, X, \u001b[39m*\u001b[39margs, \u001b[39m*\u001b[39m\u001b[39m*\u001b[39mkwargs):\n\u001b[0;32m--> 142\u001b[0m     data_to_wrap \u001b[39m=\u001b[39m f(\u001b[39mself\u001b[39;49m, X, \u001b[39m*\u001b[39;49margs, \u001b[39m*\u001b[39;49m\u001b[39m*\u001b[39;49mkwargs)\n\u001b[1;32m    143\u001b[0m     \u001b[39mif\u001b[39;00m \u001b[39misinstance\u001b[39m(data_to_wrap, \u001b[39mtuple\u001b[39m):\n\u001b[1;32m    144\u001b[0m         \u001b[39m# only wrap the first output for cross decomposition\u001b[39;00m\n\u001b[1;32m    145\u001b[0m         \u001b[39mreturn\u001b[39;00m (\n\u001b[1;32m    146\u001b[0m             _wrap_data_with_container(method, data_to_wrap[\u001b[39m0\u001b[39m], X, \u001b[39mself\u001b[39m),\n\u001b[1;32m    147\u001b[0m             \u001b[39m*\u001b[39mdata_to_wrap[\u001b[39m1\u001b[39m:],\n\u001b[1;32m    148\u001b[0m         )\n",
      "File \u001b[0;32m~/miniconda3/lib/python3.10/site-packages/nilearn/maskers/base_masker.py:249\u001b[0m, in \u001b[0;36mBaseMasker.transform\u001b[0;34m(self, imgs, confounds, sample_mask)\u001b[0m\n\u001b[1;32m    246\u001b[0m     \u001b[39melse\u001b[39;00m:\n\u001b[1;32m    247\u001b[0m         all_confounds\u001b[39m.\u001b[39mappend(confounds)\n\u001b[0;32m--> 249\u001b[0m \u001b[39mreturn\u001b[39;00m \u001b[39mself\u001b[39;49m\u001b[39m.\u001b[39;49mtransform_single_imgs(imgs, confounds\u001b[39m=\u001b[39;49mall_confounds,\n\u001b[1;32m    250\u001b[0m                                   sample_mask\u001b[39m=\u001b[39;49msample_mask)\n",
      "File \u001b[0;32m~/miniconda3/lib/python3.10/site-packages/nilearn/maskers/nifti_labels_masker.py:617\u001b[0m, in \u001b[0;36mNiftiLabelsMasker.transform_single_imgs\u001b[0;34m(self, imgs, confounds, sample_mask)\u001b[0m\n\u001b[1;32m    614\u001b[0m params[\u001b[39m'\u001b[39m\u001b[39mtarget_shape\u001b[39m\u001b[39m'\u001b[39m] \u001b[39m=\u001b[39m target_shape\n\u001b[1;32m    615\u001b[0m params[\u001b[39m'\u001b[39m\u001b[39mtarget_affine\u001b[39m\u001b[39m'\u001b[39m] \u001b[39m=\u001b[39m target_affine\n\u001b[0;32m--> 617\u001b[0m region_signals, labels_ \u001b[39m=\u001b[39m \u001b[39mself\u001b[39;49m\u001b[39m.\u001b[39;49m_cache(\n\u001b[1;32m    618\u001b[0m     _filter_and_extract,\n\u001b[1;32m    619\u001b[0m     ignore\u001b[39m=\u001b[39;49m[\u001b[39m'\u001b[39;49m\u001b[39mverbose\u001b[39;49m\u001b[39m'\u001b[39;49m, \u001b[39m'\u001b[39;49m\u001b[39mmemory\u001b[39;49m\u001b[39m'\u001b[39;49m, \u001b[39m'\u001b[39;49m\u001b[39mmemory_level\u001b[39;49m\u001b[39m'\u001b[39;49m],\n\u001b[1;32m    620\u001b[0m )(\n\u001b[1;32m    621\u001b[0m     \u001b[39m# Images\u001b[39;49;00m\n\u001b[1;32m    622\u001b[0m     imgs, _ExtractionFunctor(\n\u001b[1;32m    623\u001b[0m         \u001b[39mself\u001b[39;49m\u001b[39m.\u001b[39;49m_resampled_labels_img_,\n\u001b[1;32m    624\u001b[0m         \u001b[39mself\u001b[39;49m\u001b[39m.\u001b[39;49mbackground_label,\n\u001b[1;32m    625\u001b[0m         \u001b[39mself\u001b[39;49m\u001b[39m.\u001b[39;49mstrategy,\n\u001b[1;32m    626\u001b[0m         \u001b[39mself\u001b[39;49m\u001b[39m.\u001b[39;49m_resampled_mask_img,\n\u001b[1;32m    627\u001b[0m     ),\n\u001b[1;32m    628\u001b[0m     \u001b[39m# Pre-processing\u001b[39;49;00m\n\u001b[1;32m    629\u001b[0m     params,\n\u001b[1;32m    630\u001b[0m     confounds\u001b[39m=\u001b[39;49mconfounds,\n\u001b[1;32m    631\u001b[0m     sample_mask\u001b[39m=\u001b[39;49msample_mask,\n\u001b[1;32m    632\u001b[0m     dtype\u001b[39m=\u001b[39;49m\u001b[39mself\u001b[39;49m\u001b[39m.\u001b[39;49mdtype,\n\u001b[1;32m    633\u001b[0m     \u001b[39m# Caching\u001b[39;49;00m\n\u001b[1;32m    634\u001b[0m     memory\u001b[39m=\u001b[39;49m\u001b[39mself\u001b[39;49m\u001b[39m.\u001b[39;49mmemory,\n\u001b[1;32m    635\u001b[0m     memory_level\u001b[39m=\u001b[39;49m\u001b[39mself\u001b[39;49m\u001b[39m.\u001b[39;49mmemory_level,\n\u001b[1;32m    636\u001b[0m     verbose\u001b[39m=\u001b[39;49m\u001b[39mself\u001b[39;49m\u001b[39m.\u001b[39;49mverbose,\n\u001b[1;32m    637\u001b[0m )\n\u001b[1;32m    639\u001b[0m \u001b[39mself\u001b[39m\u001b[39m.\u001b[39mlabels_ \u001b[39m=\u001b[39m labels_\n\u001b[1;32m    641\u001b[0m \u001b[39mreturn\u001b[39;00m region_signals\n",
      "File \u001b[0;32m~/miniconda3/lib/python3.10/site-packages/joblib/memory.py:349\u001b[0m, in \u001b[0;36mNotMemorizedFunc.__call__\u001b[0;34m(self, *args, **kwargs)\u001b[0m\n\u001b[1;32m    348\u001b[0m \u001b[39mdef\u001b[39;00m \u001b[39m__call__\u001b[39m(\u001b[39mself\u001b[39m, \u001b[39m*\u001b[39margs, \u001b[39m*\u001b[39m\u001b[39m*\u001b[39mkwargs):\n\u001b[0;32m--> 349\u001b[0m     \u001b[39mreturn\u001b[39;00m \u001b[39mself\u001b[39;49m\u001b[39m.\u001b[39;49mfunc(\u001b[39m*\u001b[39;49margs, \u001b[39m*\u001b[39;49m\u001b[39m*\u001b[39;49mkwargs)\n",
      "File \u001b[0;32m~/miniconda3/lib/python3.10/site-packages/nilearn/maskers/base_masker.py:125\u001b[0m, in \u001b[0;36m_filter_and_extract\u001b[0;34m(imgs, extraction_function, parameters, memory_level, memory, verbose, confounds, sample_mask, copy, dtype)\u001b[0m\n\u001b[1;32m    123\u001b[0m     \u001b[39mprint\u001b[39m(\u001b[39m\"\u001b[39m\u001b[39m[\u001b[39m\u001b[39m%s\u001b[39;00m\u001b[39m] Cleaning extracted signals\u001b[39m\u001b[39m\"\u001b[39m \u001b[39m%\u001b[39m class_name)\n\u001b[1;32m    124\u001b[0m runs \u001b[39m=\u001b[39m parameters\u001b[39m.\u001b[39mget(\u001b[39m'\u001b[39m\u001b[39mruns\u001b[39m\u001b[39m'\u001b[39m, \u001b[39mNone\u001b[39;00m)\n\u001b[0;32m--> 125\u001b[0m region_signals \u001b[39m=\u001b[39m cache(\n\u001b[1;32m    126\u001b[0m     signal\u001b[39m.\u001b[39;49mclean, memory\u001b[39m=\u001b[39;49mmemory, func_memory_level\u001b[39m=\u001b[39;49m\u001b[39m2\u001b[39;49m,\n\u001b[1;32m    127\u001b[0m     memory_level\u001b[39m=\u001b[39;49mmemory_level)(\n\u001b[1;32m    128\u001b[0m         region_signals,\n\u001b[1;32m    129\u001b[0m         detrend\u001b[39m=\u001b[39;49mparameters[\u001b[39m'\u001b[39;49m\u001b[39mdetrend\u001b[39;49m\u001b[39m'\u001b[39;49m],\n\u001b[1;32m    130\u001b[0m         standardize\u001b[39m=\u001b[39;49mparameters[\u001b[39m'\u001b[39;49m\u001b[39mstandardize\u001b[39;49m\u001b[39m'\u001b[39;49m],\n\u001b[1;32m    131\u001b[0m         standardize_confounds\u001b[39m=\u001b[39;49mparameters[\u001b[39m'\u001b[39;49m\u001b[39mstandardize_confounds\u001b[39;49m\u001b[39m'\u001b[39;49m],\n\u001b[1;32m    132\u001b[0m         t_r\u001b[39m=\u001b[39;49mparameters[\u001b[39m'\u001b[39;49m\u001b[39mt_r\u001b[39;49m\u001b[39m'\u001b[39;49m],\n\u001b[1;32m    133\u001b[0m         low_pass\u001b[39m=\u001b[39;49mparameters[\u001b[39m'\u001b[39;49m\u001b[39mlow_pass\u001b[39;49m\u001b[39m'\u001b[39;49m],\n\u001b[1;32m    134\u001b[0m         high_pass\u001b[39m=\u001b[39;49mparameters[\u001b[39m'\u001b[39;49m\u001b[39mhigh_pass\u001b[39;49m\u001b[39m'\u001b[39;49m],\n\u001b[1;32m    135\u001b[0m         confounds\u001b[39m=\u001b[39;49mconfounds,\n\u001b[1;32m    136\u001b[0m         sample_mask\u001b[39m=\u001b[39;49msample_mask,\n\u001b[1;32m    137\u001b[0m         runs\u001b[39m=\u001b[39;49mruns)\n\u001b[1;32m    139\u001b[0m \u001b[39mreturn\u001b[39;00m region_signals, aux\n",
      "File \u001b[0;32m~/miniconda3/lib/python3.10/site-packages/joblib/memory.py:349\u001b[0m, in \u001b[0;36mNotMemorizedFunc.__call__\u001b[0;34m(self, *args, **kwargs)\u001b[0m\n\u001b[1;32m    348\u001b[0m \u001b[39mdef\u001b[39;00m \u001b[39m__call__\u001b[39m(\u001b[39mself\u001b[39m, \u001b[39m*\u001b[39margs, \u001b[39m*\u001b[39m\u001b[39m*\u001b[39mkwargs):\n\u001b[0;32m--> 349\u001b[0m     \u001b[39mreturn\u001b[39;00m \u001b[39mself\u001b[39;49m\u001b[39m.\u001b[39;49mfunc(\u001b[39m*\u001b[39;49margs, \u001b[39m*\u001b[39;49m\u001b[39m*\u001b[39;49mkwargs)\n",
      "File \u001b[0;32m~/miniconda3/lib/python3.10/site-packages/nilearn/signal.py:669\u001b[0m, in \u001b[0;36mclean\u001b[0;34m(signals, runs, detrend, standardize, sample_mask, confounds, standardize_confounds, filter, low_pass, high_pass, t_r, ensure_finite)\u001b[0m\n\u001b[1;32m    666\u001b[0m     confounds \u001b[39m/\u001b[39m\u001b[39m=\u001b[39m confound_max\n\u001b[1;32m    668\u001b[0m \u001b[39m# Pivoting in qr decomposition was added in scipy 0.10\u001b[39;00m\n\u001b[0;32m--> 669\u001b[0m Q, R, _ \u001b[39m=\u001b[39m linalg\u001b[39m.\u001b[39;49mqr(confounds, mode\u001b[39m=\u001b[39;49m\u001b[39m'\u001b[39;49m\u001b[39meconomic\u001b[39;49m\u001b[39m'\u001b[39;49m, pivoting\u001b[39m=\u001b[39;49m\u001b[39mTrue\u001b[39;49;00m)\n\u001b[1;32m    670\u001b[0m Q \u001b[39m=\u001b[39m Q[:, np\u001b[39m.\u001b[39mabs(np\u001b[39m.\u001b[39mdiag(R)) \u001b[39m>\u001b[39m np\u001b[39m.\u001b[39mfinfo(np\u001b[39m.\u001b[39mfloat64)\u001b[39m.\u001b[39meps \u001b[39m*\u001b[39m \u001b[39m100.\u001b[39m]\n\u001b[1;32m    671\u001b[0m signals \u001b[39m-\u001b[39m\u001b[39m=\u001b[39m Q\u001b[39m.\u001b[39mdot(Q\u001b[39m.\u001b[39mT)\u001b[39m.\u001b[39mdot(signals)\n",
      "File \u001b[0;32m~/miniconda3/lib/python3.10/site-packages/scipy/linalg/_decomp_qr.py:128\u001b[0m, in \u001b[0;36mqr\u001b[0;34m(a, overwrite_a, lwork, mode, pivoting, check_finite)\u001b[0m\n\u001b[1;32m    124\u001b[0m     \u001b[39mraise\u001b[39;00m \u001b[39mValueError\u001b[39;00m(\u001b[39m\"\u001b[39m\u001b[39mMode argument should be one of [\u001b[39m\u001b[39m'\u001b[39m\u001b[39mfull\u001b[39m\u001b[39m'\u001b[39m\u001b[39m, \u001b[39m\u001b[39m'\u001b[39m\u001b[39mr\u001b[39m\u001b[39m'\u001b[39m\u001b[39m,\u001b[39m\u001b[39m\"\u001b[39m\n\u001b[1;32m    125\u001b[0m                      \u001b[39m\"\u001b[39m\u001b[39m'\u001b[39m\u001b[39meconomic\u001b[39m\u001b[39m'\u001b[39m\u001b[39m, \u001b[39m\u001b[39m'\u001b[39m\u001b[39mraw\u001b[39m\u001b[39m'\u001b[39m\u001b[39m]\u001b[39m\u001b[39m\"\u001b[39m)\n\u001b[1;32m    127\u001b[0m \u001b[39mif\u001b[39;00m check_finite:\n\u001b[0;32m--> 128\u001b[0m     a1 \u001b[39m=\u001b[39m numpy\u001b[39m.\u001b[39;49masarray_chkfinite(a)\n\u001b[1;32m    129\u001b[0m \u001b[39melse\u001b[39;00m:\n\u001b[1;32m    130\u001b[0m     a1 \u001b[39m=\u001b[39m numpy\u001b[39m.\u001b[39masarray(a)\n",
      "File \u001b[0;32m~/miniconda3/lib/python3.10/site-packages/numpy/lib/function_base.py:627\u001b[0m, in \u001b[0;36masarray_chkfinite\u001b[0;34m(a, dtype, order)\u001b[0m\n\u001b[1;32m    625\u001b[0m a \u001b[39m=\u001b[39m asarray(a, dtype\u001b[39m=\u001b[39mdtype, order\u001b[39m=\u001b[39morder)\n\u001b[1;32m    626\u001b[0m \u001b[39mif\u001b[39;00m a\u001b[39m.\u001b[39mdtype\u001b[39m.\u001b[39mchar \u001b[39min\u001b[39;00m typecodes[\u001b[39m'\u001b[39m\u001b[39mAllFloat\u001b[39m\u001b[39m'\u001b[39m] \u001b[39mand\u001b[39;00m \u001b[39mnot\u001b[39;00m np\u001b[39m.\u001b[39misfinite(a)\u001b[39m.\u001b[39mall():\n\u001b[0;32m--> 627\u001b[0m     \u001b[39mraise\u001b[39;00m \u001b[39mValueError\u001b[39;00m(\n\u001b[1;32m    628\u001b[0m         \u001b[39m\"\u001b[39m\u001b[39marray must not contain infs or NaNs\u001b[39m\u001b[39m\"\u001b[39m)\n\u001b[1;32m    629\u001b[0m \u001b[39mreturn\u001b[39;00m a\n",
      "\u001b[0;31mValueError\u001b[0m: array must not contain infs or NaNs"
     ]
    }
   ],
   "source": [
    "# Apply the masker to the functional image\n",
    "time_series = masker.fit_transform(func_img, confounds=confound_files)\n",
    "\n",
    "# The resulting time series is a 2D array with shape (n_samples, n_regions)\n",
    "print(time_series.shape)"
   ]
  }
 ],
 "metadata": {
  "kernelspec": {
   "display_name": "base",
   "language": "python",
   "name": "python3"
  },
  "language_info": {
   "codemirror_mode": {
    "name": "ipython",
    "version": 3
   },
   "file_extension": ".py",
   "mimetype": "text/x-python",
   "name": "python",
   "nbconvert_exporter": "python",
   "pygments_lexer": "ipython3",
   "version": "3.10.9"
  },
  "orig_nbformat": 4
 },
 "nbformat": 4,
 "nbformat_minor": 2
}
